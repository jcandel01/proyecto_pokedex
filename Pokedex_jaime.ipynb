{
 "cells": [
  {
   "cell_type": "markdown",
   "metadata": {
    "id": "Sg5jEmyYw5M7"
   },
   "source": [
    "En el presente microproyecto se tratara de entrenar una red neuronal que sea capaz de distinguir entre los distintos pokemon de entrada"
   ]
  },
  {
   "cell_type": "markdown",
   "metadata": {
    "id": "K6j7diU_zJ_e"
   },
   "source": [
    "Cargamos las \"librerias\" necesarias"
   ]
  },
  {
   "cell_type": "code",
   "execution_count": 1,
   "metadata": {
    "executionInfo": {
     "elapsed": 3334,
     "status": "ok",
     "timestamp": 1614964584618,
     "user": {
      "displayName": "Guillermo Suarez Martinez",
      "photoUrl": "https://lh5.googleusercontent.com/-TGha0mjYCT4/AAAAAAAAAAI/AAAAAAAAASs/FmrzLuenHp8/s64/photo.jpg",
      "userId": "03198848278456563544"
     },
     "user_tz": -60
    },
    "id": "pF4zDQPizQre"
   },
   "outputs": [
    {
     "ename": "ModuleNotFoundError",
     "evalue": "No module named 'google.colab'",
     "output_type": "error",
     "traceback": [
      "\u001b[0;31m---------------------------------------------------------------------------\u001b[0m",
      "\u001b[0;31mModuleNotFoundError\u001b[0m                       Traceback (most recent call last)",
      "\u001b[0;32m<ipython-input-1-e132cd2c9ec5>\u001b[0m in \u001b[0;36m<module>\u001b[0;34m\u001b[0m\n\u001b[0;32m----> 1\u001b[0;31m \u001b[0;32mfrom\u001b[0m \u001b[0mgoogle\u001b[0m\u001b[0;34m.\u001b[0m\u001b[0mcolab\u001b[0m \u001b[0;32mimport\u001b[0m \u001b[0mdrive\u001b[0m\u001b[0;34m\u001b[0m\u001b[0;34m\u001b[0m\u001b[0m\n\u001b[0m\u001b[1;32m      2\u001b[0m \u001b[0;32mfrom\u001b[0m \u001b[0mtensorflow\u001b[0m\u001b[0;34m.\u001b[0m\u001b[0mkeras\u001b[0m\u001b[0;34m.\u001b[0m\u001b[0mdatasets\u001b[0m \u001b[0;32mimport\u001b[0m \u001b[0mcifar10\u001b[0m\u001b[0;34m\u001b[0m\u001b[0;34m\u001b[0m\u001b[0m\n\u001b[1;32m      3\u001b[0m \u001b[0;32mfrom\u001b[0m \u001b[0mtensorflow\u001b[0m\u001b[0;34m.\u001b[0m\u001b[0mkeras\u001b[0m\u001b[0;34m.\u001b[0m\u001b[0mapplications\u001b[0m \u001b[0;32mimport\u001b[0m \u001b[0mVGG16\u001b[0m\u001b[0;34m\u001b[0m\u001b[0;34m\u001b[0m\u001b[0m\n\u001b[1;32m      4\u001b[0m \u001b[0;32mfrom\u001b[0m \u001b[0mtensorflow\u001b[0m\u001b[0;34m.\u001b[0m\u001b[0mkeras\u001b[0m\u001b[0;34m.\u001b[0m\u001b[0mapplications\u001b[0m \u001b[0;32mimport\u001b[0m \u001b[0mimagenet_utils\u001b[0m\u001b[0;34m\u001b[0m\u001b[0;34m\u001b[0m\u001b[0m\n\u001b[1;32m      5\u001b[0m \u001b[0;32mfrom\u001b[0m \u001b[0mtensorflow\u001b[0m\u001b[0;34m.\u001b[0m\u001b[0mkeras\u001b[0m \u001b[0;32mimport\u001b[0m \u001b[0moptimizers\u001b[0m\u001b[0;34m\u001b[0m\u001b[0;34m\u001b[0m\u001b[0m\n",
      "\u001b[0;31mModuleNotFoundError\u001b[0m: No module named 'google.colab'"
     ]
    }
   ],
   "source": [
    "from google.colab import drive\n",
    "from tensorflow.keras.datasets import cifar10\n",
    "from tensorflow.keras.applications import VGG16\n",
    "from tensorflow.keras.applications import imagenet_utils\n",
    "from tensorflow.keras import optimizers\n",
    "from keras.models import Sequential\n",
    "from keras.layers import Conv2D, MaxPooling2D\n",
    "from keras.layers import Activation, Dropout, Flatten, Dense\n",
    "from tensorflow.keras.layers import Dropout, Flatten, Dense\n",
    "from keras.preprocessing.image import ImageDataGenerator\n",
    "import matplotlib.pyplot as plt\n",
    "from tensorflow.keras import Model\n",
    "from sklearn.metrics import classification_report\n",
    "import numpy as np"
   ]
  },
  {
   "cell_type": "markdown",
   "metadata": {
    "id": "F3L2pBBVzSyw"
   },
   "source": [
    "Montamos nuestra unidad de google drive"
   ]
  },
  {
   "cell_type": "code",
   "execution_count": 2,
   "metadata": {
    "colab": {
     "base_uri": "https://localhost:8080/"
    },
    "executionInfo": {
     "elapsed": 29112,
     "status": "ok",
     "timestamp": 1614964610440,
     "user": {
      "displayName": "Guillermo Suarez Martinez",
      "photoUrl": "https://lh5.googleusercontent.com/-TGha0mjYCT4/AAAAAAAAAAI/AAAAAAAAASs/FmrzLuenHp8/s64/photo.jpg",
      "userId": "03198848278456563544"
     },
     "user_tz": -60
    },
    "id": "UQLzioYgzaJo",
    "outputId": "bb64b629-2991-469d-f411-4dbc9e058702"
   },
   "outputs": [
    {
     "name": "stdout",
     "output_type": "stream",
     "text": [
      "Mounted at /content/drive\n"
     ]
    }
   ],
   "source": [
    "drive.mount('/content/drive') #(X)\n",
    "dataset_path = \"/content/drive/MyDrive/DeepLearning/microproyectos/proyecto1/Nivel_Basico_Desarrollo_Pokedex/dataset\"\n",
    "examples_path = \"/content/drive/MyDrive/DeepLearning/microproyectos/proyecto1/Nivel_Basico_Desarrollo_Pokedex/examples/\""
   ]
  },
  {
   "cell_type": "markdown",
   "metadata": {
    "id": "BCtG-vMp0lCJ"
   },
   "source": [
    "Cargamos el set de imagenes con las librerias de tf"
   ]
  },
  {
   "cell_type": "code",
   "execution_count": null,
   "metadata": {
    "id": "ySyQG4Za0kfL"
   },
   "outputs": [],
   "source": [
    "import cv2\n",
    "import os\n",
    "import matplotlib.pyplot as plt\n",
    "\n",
    "ruta_bulbasaur = \"/content/drive/MyDrive/DeepLearning/microproyectos/proyecto1/Nivel_Basico_Desarrollo_Pokedex/dataset/bulbasaur\"\n",
    "ruta_charmander = \"/content/drive/MyDrive/DeepLearning/microproyectos/proyecto1/Nivel_Basico_Desarrollo_Pokedex/dataset/charmander\"\n",
    "ruta_pikachu = \"/content/drive/MyDrive/DeepLearning/microproyectos/proyecto1/Nivel_Basico_Desarrollo_Pokedex/dataset/pikachu\"\n",
    "ruta_squirtle = \"/content/drive/MyDrive/DeepLearning/microproyectos/proyecto1/Nivel_Basico_Desarrollo_Pokedex/dataset/squirtle\"\n",
    "\n",
    "# Copiamos data set\n",
    "bulbasur_training = []\n",
    "charmander_training = []\n",
    "pikachu_training = []\n",
    "squirtle_training = []\n",
    "\n",
    "img_size = 80 #redimensionamos para que ocupe menos espacio y realizar el preentreno y la sintonizacion de la red de manera mas rapida\n",
    "aux = (img_size, img_size)\n",
    "\n",
    "for img in os.listdir(ruta_bulbasaur):\n",
    "  img = cv2.imread(os.path.join(ruta_bulbasaur))\n",
    "  # img_gray = cv2.cvtColor(img, cv2.COLOR_BGR2GRAY)\n",
    "  # img_resize = cv2.resize(img_gray, aux)\n",
    "  bulbasur_training.append([img])\n",
    "\n",
    "for img in os.listdir(ruta_charmander):\n",
    "  img = cv2.imread(os.path.join(ruta_charmander))\n",
    "  # img_gray = cv2.cvtColor(img, cv2.COLOR_BGR2GRAY)\n",
    "  # img_resize = cv2.resize(img_gray, aux)\n",
    "  charmander_training.append([img])\n",
    "\n",
    "for img in os.listdir(ruta_pikachu):\n",
    "  img = cv2.imread(os.path.join(ruta_pikachu))\n",
    "  # img_gray = cv2.cvtColor(img, cv2.COLOR_BGR2GRAY)\n",
    "  # img_resize = cv2.resize(img_gray, aux)\n",
    "  pikachu_training.append([img])\n",
    "\n",
    "for img in os.listdir(ruta_squirtle):\n",
    "  img = cv2.imread(os.path.join(ruta_squirtle))\n",
    "  # img_gray = cv2.cvtColor(img, cv2.COLOR_BGR2GRAY)\n",
    "  # img_resize = cv2.resize(img_gray, aux)\n",
    "  squirtle_training.append([img])\n",
    "\n",
    "\n",
    "\n",
    "print(len(bulbasur_training))\n",
    "print(len(charmander_training))\n",
    "print(len(pikachu_training))\n",
    "print(len(squirtle_training))\n"
   ]
  },
  {
   "cell_type": "markdown",
   "metadata": {
    "id": "jiNky0a1-e1B"
   },
   "source": [
    "Separamos un porcentaje para entrenamiento y otro para validacion\n"
   ]
  },
  {
   "cell_type": "code",
   "execution_count": null,
   "metadata": {
    "id": "C1e8htPP-d85"
   },
   "outputs": [],
   "source": [
    "validacion = 20\n",
    "entrenamiento = 80\n",
    "for i=0 in len(os.listdir(ruta_bulbasaur)\n",
    "  print(i)            \n",
    "i < np.round(len(os.listdir(ruta_bulbasaur))*validacion/100)\n",
    "\n"
   ]
  },
  {
   "cell_type": "code",
   "execution_count": null,
   "metadata": {
    "id": "YWemG_wE-VjH"
   },
   "outputs": [],
   "source": [
    "\n",
    "# dimensions of our images.\n",
    "img_width, img_height = 32, 32\n",
    "\n",
    "train_data_dir = dataset_path\n",
    "print(train_data_dir)\n",
    "validation_data_dir = dataset_path\n",
    "nb_train_samples = 2000\n",
    "nb_validation_samples = 800\n",
    "epochs = 50\n",
    "batch_size = 16\n",
    "\n",
    "input_shape = (img_width, img_height, 3)\n",
    "\n",
    "model = Sequential()\n",
    "model.add(Flatten())\n",
    "\n",
    "# Primera capa oculta\n",
    "model.add(Dense(2048, input_shape=input_shape, activation=\"relu\")) #(X)\n",
    "#model.add(Dropout(0.5))\n",
    "# Segunda capa oculta\n",
    "model.add(Dense(1024, activation=\"relu\")) #(X)\n",
    "#model.add(Dropout(0.5))\n",
    "# Tercera capa oculta\n",
    "model.add(Dense(512, activation=\"relu\")) #(X)\n",
    "#model.add(Dropout(0.5))\n",
    "# Cuarta capa oculta\n",
    "model.add(Dense(128, activation=\"relu\")) #(X)\n",
    "#model.add(Dropout(0.5))\n",
    "# Quinta capa oculta\n",
    "model.add(Dense(32, activation=\"relu\")) #(X)\n",
    "# Capa de salida\n",
    "model.add(Dense(5, activation=\"softmax\")) #(X)\n",
    "\n",
    "model.compile(loss=\"binary_crossentropy\", optimizer=SGD(0.01), metrics=[\"accuracy\"]) # Etiquetas en decimal #(X)\n",
    "\n",
    "\n",
    "# this is the augmentation configuration we will use for training\n",
    "datagen_train = ImageDataGenerator( #(X)\n",
    "    rotation_range=int(180*0.1),  #(X)\n",
    "    width_shift_range=0.1,  #(X)\n",
    "    height_shift_range=0.1,  #(X)\n",
    "    zoom_range=0.1,  #(X)\n",
    "    horizontal_flip=True, #(X)\n",
    "    validation_split=0.2,\n",
    "    )\n",
    "\n",
    "\n",
    "train_datagen = datagen_train.flow_from_directory(train_data_dir, batch_size=128, class_mode = 'categorical', subset='training') #(X)\n",
    "val_datagen = datagen_train.flow_from_directory(train_data_dir, batch_size=128, class_mode = 'categorical', subset='validation') #(X)\n",
    "\n",
    "\n",
    "\n",
    "model.fit_generator(\n",
    "    train_generator,\n",
    "    steps_per_epoch=nb_train_samples // batch_size,\n",
    "    epochs=epochs,\n",
    "    validation_data=val_datagen,\n",
    "    validation_steps=nb_validation_samples // batch_size)\n",
    "\n",
    "model.save_weights('first_try.h5')"
   ]
  }
 ],
 "metadata": {
  "accelerator": "GPU",
  "colab": {
   "authorship_tag": "ABX9TyOrm6S/TnLEJKtTXxRHjJ8I",
   "name": "Pokedex.ipynb",
   "provenance": []
  },
  "kernelspec": {
   "display_name": "Python 3",
   "language": "python",
   "name": "python3"
  },
  "language_info": {
   "codemirror_mode": {
    "name": "ipython",
    "version": 3
   },
   "file_extension": ".py",
   "mimetype": "text/x-python",
   "name": "python",
   "nbconvert_exporter": "python",
   "pygments_lexer": "ipython3",
   "version": "3.8.8"
  }
 },
 "nbformat": 4,
 "nbformat_minor": 1
}
